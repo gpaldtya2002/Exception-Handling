{
  "nbformat": 4,
  "nbformat_minor": 0,
  "metadata": {
    "colab": {
      "provenance": [],
      "authorship_tag": "ABX9TyNTIWwUiSDpgQJkS/OxHHoK",
      "include_colab_link": true
    },
    "kernelspec": {
      "name": "python3",
      "display_name": "Python 3"
    },
    "language_info": {
      "name": "python"
    }
  },
  "cells": [
    {
      "cell_type": "markdown",
      "metadata": {
        "id": "view-in-github",
        "colab_type": "text"
      },
      "source": [
        "<a href=\"https://colab.research.google.com/github/gpaldtya2002/Exception-Handling/blob/main/Exception_Handling.ipynb\" target=\"_parent\"><img src=\"https://colab.research.google.com/assets/colab-badge.svg\" alt=\"Open In Colab\"/></a>"
      ]
    },
    {
      "cell_type": "markdown",
      "metadata": {
        "id": "WcdyFjhzJo9j"
      },
      "source": [
        "---\n",
        "# **Exception Handling**\n",
        "**Learning:** How to handle exceptions\n",
        "\n",
        "---\n",
        "### **1. Error Generation**"
      ]
    },
    {
      "cell_type": "code",
      "metadata": {
        "colab": {
          "base_uri": "https://localhost:8080/",
          "height": 270
        },
        "id": "vKJEy_SYJo9k",
        "outputId": "77dfafb5-4517-42d7-bf4e-aea7ec9da0de"
      },
      "source": [
        "for i in range(-5,6):\n",
        "\tprint (\"100/\",i,\" --> \", 100/i)"
      ],
      "execution_count": 1,
      "outputs": [
        {
          "output_type": "stream",
          "name": "stdout",
          "text": [
            "100/ -5  -->  -20.0\n",
            "100/ -4  -->  -25.0\n",
            "100/ -3  -->  -33.333333333333336\n",
            "100/ -2  -->  -50.0\n",
            "100/ -1  -->  -100.0\n"
          ]
        },
        {
          "output_type": "error",
          "ename": "ZeroDivisionError",
          "evalue": "ignored",
          "traceback": [
            "\u001b[0;31m---------------------------------------------------------------------------\u001b[0m",
            "\u001b[0;31mZeroDivisionError\u001b[0m                         Traceback (most recent call last)",
            "\u001b[0;32m<ipython-input-1-5eb017879ab5>\u001b[0m in \u001b[0;36m<cell line: 1>\u001b[0;34m()\u001b[0m\n\u001b[1;32m      1\u001b[0m \u001b[0;32mfor\u001b[0m \u001b[0mi\u001b[0m \u001b[0;32min\u001b[0m \u001b[0mrange\u001b[0m\u001b[0;34m(\u001b[0m\u001b[0;34m-\u001b[0m\u001b[0;36m5\u001b[0m\u001b[0;34m,\u001b[0m\u001b[0;36m6\u001b[0m\u001b[0;34m)\u001b[0m\u001b[0;34m:\u001b[0m\u001b[0;34m\u001b[0m\u001b[0;34m\u001b[0m\u001b[0m\n\u001b[0;32m----> 2\u001b[0;31m         \u001b[0mprint\u001b[0m \u001b[0;34m(\u001b[0m\u001b[0;34m\"100/\"\u001b[0m\u001b[0;34m,\u001b[0m\u001b[0mi\u001b[0m\u001b[0;34m,\u001b[0m\u001b[0;34m\" --> \"\u001b[0m\u001b[0;34m,\u001b[0m \u001b[0;36m100\u001b[0m\u001b[0;34m/\u001b[0m\u001b[0mi\u001b[0m\u001b[0;34m)\u001b[0m\u001b[0;34m\u001b[0m\u001b[0;34m\u001b[0m\u001b[0m\n\u001b[0m",
            "\u001b[0;31mZeroDivisionError\u001b[0m: division by zero"
          ]
        }
      ]
    },
    {
      "cell_type": "markdown",
      "metadata": {
        "id": "ulPZfl8rJo9l"
      },
      "source": [
        "---\n",
        "### **2. Exception handling for division by zero**\n",
        "---"
      ]
    },
    {
      "cell_type": "code",
      "metadata": {
        "colab": {
          "base_uri": "https://localhost:8080/"
        },
        "id": "GY4t0EqjJo9m",
        "outputId": "779590a7-21c8-4e56-bfb7-c73327967e55"
      },
      "source": [
        "for i in range(-5,6):\n",
        "\ttry:\n",
        "\t\tprint (\"100/\",i,\" --> \", 100/i)\n",
        "\texcept:\n",
        "\t\tprint (\"error\")"
      ],
      "execution_count": 2,
      "outputs": [
        {
          "output_type": "stream",
          "name": "stdout",
          "text": [
            "100/ -5  -->  -20.0\n",
            "100/ -4  -->  -25.0\n",
            "100/ -3  -->  -33.333333333333336\n",
            "100/ -2  -->  -50.0\n",
            "100/ -1  -->  -100.0\n",
            "error\n",
            "100/ 1  -->  100.0\n",
            "100/ 2  -->  50.0\n",
            "100/ 3  -->  33.333333333333336\n",
            "100/ 4  -->  25.0\n",
            "100/ 5  -->  20.0\n"
          ]
        }
      ]
    },
    {
      "cell_type": "code",
      "source": [
        "l= [12,5,0,10,0,20,0]\n",
        "for i in l:\n",
        "\ttry:\n",
        "\t\tprint (\"100/\",i,\" --> \", 100/i)\n",
        "\texcept:\n",
        "\t\tprint (\"error\")"
      ],
      "metadata": {
        "colab": {
          "base_uri": "https://localhost:8080/"
        },
        "id": "apnq5A67iFue",
        "outputId": "9fe99b6a-ae3a-4364-c5b8-d73675076be3"
      },
      "execution_count": 7,
      "outputs": [
        {
          "output_type": "stream",
          "name": "stdout",
          "text": [
            "100/ 12  -->  8.333333333333334\n",
            "100/ 5  -->  20.0\n",
            "error\n",
            "100/ 10  -->  10.0\n",
            "error\n",
            "100/ 20  -->  5.0\n",
            "error\n"
          ]
        }
      ]
    },
    {
      "cell_type": "markdown",
      "metadata": {
        "id": "g1cY_zT3Jo9m"
      },
      "source": [
        "---\n",
        "### **3. Exception handling for array out of index**\n",
        "---"
      ]
    },
    {
      "cell_type": "code",
      "metadata": {
        "colab": {
          "base_uri": "https://localhost:8080/"
        },
        "id": "m1rBOUB3Jo9n",
        "outputId": "60f6b8bb-4990-440c-92a5-822b182107a5"
      },
      "source": [
        "L=[1,2,3,4,5]\n",
        "\n",
        "for i in range(8):\n",
        "\ttry:\n",
        "\t\tprint (i,\" --> \",L[i])\n",
        "\texcept:\n",
        "\t\tprint (\"error\")"
      ],
      "execution_count": 3,
      "outputs": [
        {
          "output_type": "stream",
          "name": "stdout",
          "text": [
            "0  -->  1\n",
            "1  -->  2\n",
            "2  -->  3\n",
            "3  -->  4\n",
            "4  -->  5\n",
            "error\n",
            "error\n",
            "error\n"
          ]
        }
      ]
    },
    {
      "cell_type": "markdown",
      "metadata": {
        "id": "kH8CATzbJo9o"
      },
      "source": [
        "---\n",
        "### **4. Exception handling for file not found**\n",
        "---"
      ]
    },
    {
      "cell_type": "code",
      "metadata": {
        "colab": {
          "base_uri": "https://localhost:8080/",
          "height": 235
        },
        "id": "zZ7ns4K3Jo9o",
        "outputId": "12135527-1840-4b2f-b1e8-277371ccb93d"
      },
      "source": [
        "fileName=input(\"Enter File Name: \")\n",
        "fp=open(fileName)\t# Open the file in reading mode\n",
        "fp.close()\n",
        "print (\"Done\")"
      ],
      "execution_count": 6,
      "outputs": [
        {
          "name": "stdout",
          "output_type": "stream",
          "text": [
            "Enter File Name: asd\n"
          ]
        },
        {
          "output_type": "error",
          "ename": "FileNotFoundError",
          "evalue": "ignored",
          "traceback": [
            "\u001b[0;31m---------------------------------------------------------------------------\u001b[0m",
            "\u001b[0;31mFileNotFoundError\u001b[0m                         Traceback (most recent call last)",
            "\u001b[0;32m<ipython-input-6-df3155df6860>\u001b[0m in \u001b[0;36m<cell line: 2>\u001b[0;34m()\u001b[0m\n\u001b[1;32m      1\u001b[0m \u001b[0mfileName\u001b[0m\u001b[0;34m=\u001b[0m\u001b[0minput\u001b[0m\u001b[0;34m(\u001b[0m\u001b[0;34m\"Enter File Name: \"\u001b[0m\u001b[0;34m)\u001b[0m\u001b[0;34m\u001b[0m\u001b[0;34m\u001b[0m\u001b[0m\n\u001b[0;32m----> 2\u001b[0;31m \u001b[0mfp\u001b[0m\u001b[0;34m=\u001b[0m\u001b[0mopen\u001b[0m\u001b[0;34m(\u001b[0m\u001b[0mfileName\u001b[0m\u001b[0;34m)\u001b[0m       \u001b[0;31m# Open the file in reading mode\u001b[0m\u001b[0;34m\u001b[0m\u001b[0;34m\u001b[0m\u001b[0m\n\u001b[0m\u001b[1;32m      3\u001b[0m \u001b[0mfp\u001b[0m\u001b[0;34m.\u001b[0m\u001b[0mclose\u001b[0m\u001b[0;34m(\u001b[0m\u001b[0;34m)\u001b[0m\u001b[0;34m\u001b[0m\u001b[0;34m\u001b[0m\u001b[0m\n\u001b[1;32m      4\u001b[0m \u001b[0mprint\u001b[0m \u001b[0;34m(\u001b[0m\u001b[0;34m\"Done\"\u001b[0m\u001b[0;34m)\u001b[0m\u001b[0;34m\u001b[0m\u001b[0;34m\u001b[0m\u001b[0m\n",
            "\u001b[0;31mFileNotFoundError\u001b[0m: [Errno 2] No such file or directory: 'asd'"
          ]
        }
      ]
    },
    {
      "cell_type": "markdown",
      "metadata": {
        "id": "D4bffbZQJo9p"
      },
      "source": [
        "---\n",
        "### **5. Exception handling for file not found**\n",
        "---"
      ]
    },
    {
      "cell_type": "code",
      "metadata": {
        "colab": {
          "base_uri": "https://localhost:8080/"
        },
        "id": "dt3X92CyJo9q",
        "outputId": "cdd7c12e-4445-4cb9-e85b-cfb4dd5a7893"
      },
      "source": [
        "fileName=input(\"Enter File Name: \")\n",
        "try:\n",
        "\tfp=open(fileName)\t# Open the file in reading mode\n",
        "\tfp.close()\n",
        "except:\n",
        "\tprint (\"Error !! \\\"%s\\\" File Not Found\"%(fileName))\n",
        "\n",
        "print (\"Done\")"
      ],
      "execution_count": 5,
      "outputs": [
        {
          "output_type": "stream",
          "name": "stdout",
          "text": [
            "Enter File Name: sad\n",
            "Error !! \"sad\" File Not Found\n",
            "Done\n"
          ]
        }
      ]
    }
  ]
}